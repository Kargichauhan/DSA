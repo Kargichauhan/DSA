{
 "cells": [
  {
   "cell_type": "markdown",
   "metadata": {},
   "source": [
    "1. Missing in Array \n",
    "\n",
    "Arrays\n",
    "Searching\n",
    "Bit Magic\n",
    "Data Structures\n",
    "Algorithms"
   ]
  },
  {
   "cell_type": "markdown",
   "metadata": {},
   "source": [
    "You are given an array arr of size n - 1 that contains distinct integers in the range from 1 to n (inclusive). This array represents a permutation of the integers from 1 to n with one element missing. Your task is to identify and return the missing element.\n",
    "\n",
    "Examples:\n",
    "\n",
    "Input: arr[] = [1, 2, 3, 5]\n",
    "Output: 4\n",
    "Explanation: All the numbers from 1 to 5 are present except 4.\n",
    "Input: arr[] = [8, 2, 4, 5, 3, 7, 1]\n",
    "Output: 6\n",
    "Explanation: All the numbers from 1 to 8 are present except 6.\n",
    "Input: arr[] = [1]\n",
    "Output: 2\n",
    "Explanation: Only 1 is present so the missing element is 2.\n",
    "Constraints:\n",
    "1 ≤ arr.size() ≤ 106\n",
    "1 ≤ arr[i] ≤ arr.size() + 1"
   ]
  },
  {
   "cell_type": "markdown",
   "metadata": {},
   "source": [
    "https://www.geeksforgeeks.org/problems/missing-number-in-array1416/1?page=1&company=Intuit&sortBy=submissions"
   ]
  },
  {
   "cell_type": "code",
   "execution_count": null,
   "metadata": {},
   "outputs": [],
   "source": []
  },
  {
   "cell_type": "markdown",
   "metadata": {},
   "source": [
    "2. Reverse a linked list\n",
    "\n",
    "Linked List\n",
    "Data Structures"
   ]
  },
  {
   "cell_type": "markdown",
   "metadata": {},
   "source": [
    "Given the head of a linked list, the task is to reverse this list and return the reversed head.\n",
    "\n",
    "Examples:\n",
    "\n",
    "Input: Linked list: 1->2->3->4->5->6\n",
    "Output: 6->5->4->3->2->1\n",
    "Explanation:\n",
    "\n",
    "Input: Linked list: 2->7->10->9->8 \n",
    "Output: 8->9->10->7->2\n",
    "Explanation:\n",
    "\n",
    "Input: Linked List: 10\n",
    "Output: 10\n",
    "Explanation: For a single node list, the reverse would be same as original\n",
    "Expected Time Complexity: O(n)\n",
    "Expected Space Complexity: O(1)\n",
    "\n",
    "Constraints:\n",
    "1 <= number of nodes, data of nodes <= 105"
   ]
  },
  {
   "cell_type": "code",
   "execution_count": null,
   "metadata": {},
   "outputs": [],
   "source": []
  },
  {
   "cell_type": "markdown",
   "metadata": {},
   "source": [
    "3. DFS of Graph\n",
    "\n",
    "DFS\n",
    "Graph\n",
    "Data Structures\n",
    "Algorithms"
   ]
  },
  {
   "cell_type": "markdown",
   "metadata": {},
   "source": [
    "Given a connected undirected graph represented by an adjacency list adj, which is a vector of vectors where each adj[i] represents the list of vertices connected to vertex i. Perform a Depth First Traversal (DFS) starting from vertex 0, visiting vertices from left to right as per the adjacency list, and return a list containing the DFS traversal of the graph.\n",
    "\n",
    "Note: Do traverse in the same order as they are in the adjacency list.\n",
    "\n",
    "Examples:\n",
    "\n",
    "Input: adj = [[2,3,1], [0], [0,4], [0], [2]]\n",
    "\n",
    "Output: [0, 2, 4, 3, 1]\n",
    "Explanation: Starting from 0, the DFS traversal proceeds as follows: \n",
    "Visit 0 → Output: 0 \n",
    "Visit 2 (the first neighbor of 0) → Output: 0, 2 \n",
    "Visit 4 (the first neighbor of 2) → Output: 0, 2, 4 \n",
    "Backtrack to 2, then backtrack to 0, and visit 3 → Output: 0, 2, 4, 3 \n",
    "Finally, backtrack to 0 and visit 1 → Final Output: 0, 2, 4, 3, 1\n",
    "Input: adj = [[1, 2], [0, 2], [0, 1, 3, 4], [2], [2]]\n",
    "\n",
    "Output: [0, 1, 2, 3, 4]\n",
    "Explanation: Starting from 0, the DFS traversal proceeds as follows: \n",
    "Visit 0 → Output: 0 \n",
    "Visit 1 (the first neighbor of 0) → Output: 0, 1 \n",
    "Visit 2 (the first neighbor of 1) → Output: 0, 1, 2 \n",
    "Visit 3 (the first neighbor of 2) → Output: 0, 1, 2, 3 \n",
    "Backtrack to 2 and visit 4 → Final Output: 0, 1, 2, 3, 4\n",
    "Constraints:\n",
    "1 ≤ adj.size() ≤ 104\n",
    "1 ≤ adj[i][j] ≤ 104"
   ]
  },
  {
   "cell_type": "code",
   "execution_count": null,
   "metadata": {},
   "outputs": [],
   "source": []
  },
  {
   "cell_type": "markdown",
   "metadata": {},
   "source": [
    "4. Stock buy and sell\n",
    "\n",
    "Arrays\n",
    "Dynamic Programming\n",
    "Greedy\n",
    "Data Structures\n",
    "Algorithms\n"
   ]
  },
  {
   "cell_type": "markdown",
   "metadata": {},
   "source": [
    "The cost of stock on each day is given in an array A[] of size N. Find all the segments of days on which you buy and sell the stock such that the sum of difference between sell and buy prices is maximized. Each segment consists of indexes of two elements, first is index of day on which you buy stock and second is index of day on which you sell stock.\n",
    "Note: Since there can be multiple solutions, the driver code will print 1 if your answer is correct, otherwise, it will return 0. In case there's no profit the driver code will print the string \"No Profit\" for a correct solution.\n",
    "\n",
    "Example 1:\n",
    "\n",
    "Input:\n",
    "N = 7\n",
    "A[] = {100,180,260,310,40,535,695}\n",
    "Output:\n",
    "1\n",
    "Explanation:\n",
    "One possible solution is (0 3) (4 6)\n",
    "We can buy stock on day 0,\n",
    "and sell it on 3rd day, which will \n",
    "give us maximum profit. Now, we buy \n",
    "stock on day 4 and sell it on day 6.\n",
    "Example 2:\n",
    "\n",
    "Input:\n",
    "N = 5\n",
    "A[] = {4,2,2,2,4}\n",
    "Output:\n",
    "1\n",
    "Explanation:\n",
    "There are multiple possible solutions.\n",
    "one of them is (3 4)\n",
    "We can buy stock on day 3,\n",
    "and sell it on 4th day, which will \n",
    "give us maximum profit.\n",
    "\n",
    "Your Task:\n",
    "The task is to complete the function stockBuySell() which takes an array of A[] and N as input parameters and finds the days of buying and selling stock. The function must return a 2D list of integers containing all the buy-sell pairs i.e. the first value of the pair will represent the day on which you buy the stock and the second value represent the day on which you sell that stock. If there is No Profit, return an empty list.\n",
    "\n",
    "\n",
    "Expected Time Complexity: O(N)\n",
    "Expected Auxiliary Space: O(N)\n",
    "\n",
    "\n",
    "Constraints:\n",
    "2 ≤ N ≤ 106\n",
    "0 ≤ A[i] ≤ 106"
   ]
  },
  {
   "cell_type": "code",
   "execution_count": null,
   "metadata": {},
   "outputs": [],
   "source": []
  },
  {
   "cell_type": "markdown",
   "metadata": {},
   "source": [
    "5. Product array puzzle\n",
    "\n",
    "Arrays\n",
    "Mathematical\n",
    "Data Structures\n",
    "Algorithms"
   ]
  },
  {
   "cell_type": "markdown",
   "metadata": {},
   "source": [
    "Given an array nums[], construct a Product Array nums[] such that nums[i] is equal to the product of all the elements of nums except nums[i].\n",
    "\n",
    "Examples:\n",
    "\n",
    "Input: nums[] = [10, 3, 5, 6, 2]\n",
    "Output: [180, 600, 360, 300, 900]\n",
    "Explanation: For i=0, P[i] = 3*5*6*2 = 180.\n",
    "For i=1, P[i] = 10*5*6*2 = 600.\n",
    "For i=2, P[i] = 10*3*6*2 = 360.\n",
    "For i=3, P[i] = 10*3*5*2 = 300.\n",
    "For i=4, P[i] = 10*3*5*6 = 900.\n",
    "Input: nums[] = [12,0]\n",
    "Output: [0, 12]\n",
    "Expected Time Complexity: O(n)\n",
    "Expected Auxiliary Space: O(n)\n",
    "\n",
    "Constraints:\n",
    "1 <= nums.size() <= 1000\n",
    "0 <= nums[i] <= 200\n",
    "nums[i] may contain duplicates.\n"
   ]
  },
  {
   "cell_type": "markdown",
   "metadata": {},
   "source": []
  },
  {
   "cell_type": "markdown",
   "metadata": {},
   "source": [
    "6. Remove duplicates from an unsorted linked list\n",
    "\n",
    "Linked List\n",
    "DS\n"
   ]
  },
  {
   "cell_type": "markdown",
   "metadata": {},
   "source": [
    "Given an unsorted linked list. The task is to remove duplicate elements from this unsorted Linked List. When a value appears in multiple nodes, the node which appeared first should be kept, all other duplicates are to be removed.\n",
    "\n",
    "Examples:\n",
    "\n",
    "Input: LinkedList: 5->2->2->4\n",
    "Output: 5->2->4\n",
    "Explanation: Given linked list elements are 5->2->2->4, in which 2 is repeated only. So, we will delete the extra repeated elements 2 from the linked list and the resultant linked list will contain 5->2->4\n",
    " \n",
    "Input: LinkedList: 2->2->2->2->2\n",
    "Output: 2\n",
    "Explanation:Given linked list elements are 2->2->2->2->2, in which 2 is repeated. So, we will delete the extra repeated elements 2 from the linked list and the resultant linked list will contain only 2.\n",
    "Expected Time Complexity: O(n)\n",
    "Expected Space Complexity: O(n)\n",
    "\n",
    "Constraints:\n",
    "1 <= number of nodes <= 106\n",
    "0 <= node->data <= 106"
   ]
  },
  {
   "cell_type": "code",
   "execution_count": null,
   "metadata": {},
   "outputs": [],
   "source": []
  },
  {
   "cell_type": "markdown",
   "metadata": {},
   "source": [
    "7. Search in Rotated Sorted Array\n",
    "\n",
    "Searching\n",
    "Divide and Conquer\n",
    "Algorithms\n",
    "\n"
   ]
  },
  {
   "cell_type": "markdown",
   "metadata": {},
   "source": [
    "Given a sorted (in ascending order) and rotated array arr of distinct elements which may be rotated at some point and given an element key, the task is to find the index of the given element key in the array arr. The whole array arr is given as the range to search.\n",
    "\n",
    "Rotation shifts elements of the array by a certain number of positions, with elements that fall off one end reappearing at the other end.\n",
    "Note:- 0-based indexing is followed & returns -1 if the key is not present.\n",
    "\n",
    "Examples :\n",
    "\n",
    "Input: arr[] = [5, 6, 7, 8, 9, 10, 1, 2, 3], key = 10\n",
    "Output: 5\n",
    "Explanation: 10 is found at index 5.\n",
    "Input: arr[] = [3, 5, 1, 2], key = 6\n",
    "Output: -1\n",
    "Explanation: There is no element that has value 6.\n",
    "Input: arr[] = [33, 42, 72, 99], key = 42\n",
    "Output: 1\n",
    "Explanation: 42 is found at index 1.\n",
    "Expected Time Complexity: O(log n)\n",
    "Expected Auxiliary Space: O(1)\n",
    "\n",
    "Constraints:\n",
    "1 ≤ arr.size() ≤ 106\n",
    "0 ≤ arr[i] ≤ 106\n",
    "1 ≤ key ≤ 105"
   ]
  },
  {
   "cell_type": "code",
   "execution_count": null,
   "metadata": {},
   "outputs": [],
   "source": []
  },
  {
   "cell_type": "markdown",
   "metadata": {},
   "source": [
    "8. Find the number of islands\n",
    "\n",
    "DFS\n",
    "Graph\n",
    "Data Structures\n",
    "Algorithms"
   ]
  },
  {
   "cell_type": "markdown",
   "metadata": {},
   "source": [
    "Given a grid of size n*m (n is the number of rows and m is the number of columns in the grid) consisting of '0's (Water) and '1's(Land). Find the number of islands.\n",
    "\n",
    "Note: An island is either surrounded by water or the boundary of a grid and is formed by connecting adjacent lands horizontally or vertically or diagonally i.e., in all 8 directions.\n",
    "\n",
    "Examples:\n",
    "\n",
    "Input: grid = [[0,1],[1,0],[1,1],[1,0]]\n",
    "Output: 1\n",
    "Explanation:\n",
    "The grid is-\n",
    "\n",
    "All lands are connected.\n",
    "Input: grid = [[0,1,1,1,0,0,0],[0,0,1,1,0,1,0]]\n",
    "Output: 2\n",
    "Expanation:\n",
    "The grid is-\n",
    " \n",
    "There are two islands :- one is colored in \"blue\" and other in \"red\".\n",
    "Expected Time Complexity: O(n*m)\n",
    "Expected Space Complexity: O(n*m)\n",
    "\n",
    "Constraints:\n",
    "1 ≤ n, m ≤ 500\n",
    "grid[i][j] = {'0', '1'}"
   ]
  },
  {
   "cell_type": "code",
   "execution_count": null,
   "metadata": {},
   "outputs": [],
   "source": []
  },
  {
   "cell_type": "markdown",
   "metadata": {},
   "source": [
    "9. Alternate positive and negative numbers\n",
    "\n",
    "Arrays\n",
    "DS\n",
    "\n"
   ]
  },
  {
   "cell_type": "markdown",
   "metadata": {},
   "source": [
    "Given an unsorted array arr containing both positive and negative numbers. Your task is to rearrange the array and convert it into an array of alternate positive and negative numbers without changing the relative order.\n",
    "\n",
    "Note:\n",
    "- Resulting array should start with a positive integer (0 will also be considered as a positive integer).\n",
    "- If any of the positive or negative integers are exhausted, then add the remaining integers in the answer as it is by maintaining the relative order.\n",
    "- The array may or may not have equal number of positive and negative integers.\n",
    "\n",
    "Examples:\n",
    "\n",
    "Input: arr[] = [9, 4, -2, -1, 5, 0, -5, -3, 2]\n",
    "Output: 9 -2 4 -1 5 -5 0 -3 2\n",
    "Explanation: The positive numbers are [9, 4, 5, 0, 2] and the negative integers are [-2, -1, -5, -3]. Since, we need to start with the positive integer first\n",
    "and then negative integer and so on (by maintaining the relative order as well), hence we will take 9 from the positive set of elements and then\n",
    "-2 after that 4 and then -1 and so on.\n",
    "Hence, the output is 9, -2, 4, -1, 5, -5, 0, -3, 2.\n",
    "Input: arr[] = [-5, -2, 5, 2, 4, 7, 1, 8, 0, -8]\n",
    "Output: 5 -5 2 -2 4 -8 7 1 8 0\n",
    "Explanation : The positive numbers are [5, 2, 4, 7, 1, 8, 0] and the negative integers are [-5,-2,-8]. According to the given conditions we will start\n",
    "from the positive integer 5 and then -5 and so on. After reaching -8 there are no negative elements left, so according to the given rule, we will\n",
    "add the remaining elements (in this case positive elements are remaining) as it in by maintaining the relative order.\n",
    "Hence, the output is 5, -5, 2, -2, 4, -8, 7, 1, 8, 0.\n",
    "Expected Time Complexity: O(n)\n",
    "Expected Auxiliary Space: O(n)\n",
    "\n",
    "Constraints:\n",
    "1 ≤ arr.size() ≤ 107\n",
    "-106 ≤ arr[i] ≤ 107"
   ]
  },
  {
   "cell_type": "code",
   "execution_count": null,
   "metadata": {},
   "outputs": [],
   "source": []
  },
  {
   "cell_type": "markdown",
   "metadata": {},
   "source": [
    "10. Children Sum in a Binary Tree\n",
    "\n",
    "Tree\n",
    "DS\n",
    "\n"
   ]
  },
  {
   "cell_type": "markdown",
   "metadata": {},
   "source": [
    "Given a binary tree having n nodes. Check whether all of its nodes have the value equal to the sum of their child nodes. Return 1 if all the nodes in the tree satisfy the given properties, else it return 0.\n",
    "\n",
    "For every node, data value must be equal to the sum of data values in left and right children. Consider data value as 0 for NULL child.  Also, leaves are considered to follow the property.\n",
    "\n",
    "Example 1:\n",
    "\n",
    "Input:\n",
    "Binary tree\n",
    "       35\n",
    "      /   \\\n",
    "     20  15\n",
    "    /  \\  /  \\\n",
    "   15 5 10 5\n",
    "Output: \n",
    "1\n",
    "Explanation: \n",
    "Here, every node is sum of its left and right child.\n",
    "Example 2:\n",
    "\n",
    "Input:\n",
    "Binary tree\n",
    "       1\n",
    "     /   \\\n",
    "    4    3\n",
    "   /  \n",
    "  5    \n",
    "Output: \n",
    "0\n",
    "Explanation: \n",
    "Here, 1 is the root node and 4, 3 are its child nodes. 4 + 3 = 7 which is not equal to the value of root node. Hence, this tree does not satisfy the given condition.\n",
    "Your Task:\n",
    "You don't need to read input or print anything. Your task is to complete the function isSumProperty() that takes the root Node of the binary tree as input and returns 1 if all the nodes in the tree satisfy the following properties, else it returns 0.\n",
    "\n",
    "Expected Time Complexiy: O(n).\n",
    "Expected Auxiliary Space: O(Height of the Tree).\n",
    "\n",
    "Constraints:\n",
    "1 <= n <= 105\n",
    "1 <= Data on nodes <= 105"
   ]
  },
  {
   "cell_type": "code",
   "execution_count": null,
   "metadata": {},
   "outputs": [],
   "source": []
  },
  {
   "cell_type": "markdown",
   "metadata": {},
   "source": [
    "11. Element with left side smaller and right side greater\n",
    "\n",
    "Arrays\n",
    "Data Structures\n",
    "\n"
   ]
  },
  {
   "cell_type": "markdown",
   "metadata": {},
   "source": [
    "Given an unsorted array of arr. Find the first element in an array such that all of its left elements are smaller and all right elements of its are greater than it.\n",
    "\n",
    "Note: Return -1 if there is no such element.\n",
    "\n",
    "Examples : \n",
    "\n",
    "Input: arr = [4, 2, 5, 7]\n",
    "Output: 5\n",
    "Explanation: Elements on left of 5 are smaller than 5 and on right of it are greater than 5.\n",
    "Input: arr = [11, 9, 12]\n",
    "Output: -1\n",
    "Explanation: As no element here which we can say smaller in left & greater in right.\n",
    "Expected Time Complexity: O(n)\n",
    "Expected Auxiliary Space: O(n)\n",
    "\n",
    "Constraints:\n",
    "3 <= arr.size() <= 106\n",
    "1 <= arri <= 106"
   ]
  },
  {
   "cell_type": "code",
   "execution_count": null,
   "metadata": {},
   "outputs": [],
   "source": []
  },
  {
   "cell_type": "markdown",
   "metadata": {},
   "source": [
    "12. Sort a stack\n",
    "\n",
    "\n",
    "Recursion\n",
    "Stack\n",
    "STL\n",
    "Data Structures\n",
    "Algorithms\n"
   ]
  },
  {
   "cell_type": "markdown",
   "metadata": {},
   "source": [
    "Given a stack, the task is to sort it such that the top of the stack has the greatest element.\n",
    "\n",
    "Example 1:\n",
    "\n",
    "Input:\n",
    "Stack: 3 2 1\n",
    "Output: 3 2 1\n",
    "Example 2:\n",
    "\n",
    "Input:\n",
    "Stack: 11 2 32 3 41\n",
    "Output: 41 32 11 3 2\n",
    "Your Task: \n",
    "You don't have to read input or print anything. Your task is to complete the function sort() which sorts the elements present in the given stack. (The sorted stack is printed by the driver's code by popping the elements of the stack.)\n",
    "\n",
    "Expected Time Complexity: O(N*N)\n",
    "Expected Auxilliary Space: O(N) recursive.\n",
    "\n",
    "Constraints:\n",
    "1<=N<=100"
   ]
  },
  {
   "cell_type": "code",
   "execution_count": null,
   "metadata": {},
   "outputs": [],
   "source": []
  },
  {
   "cell_type": "markdown",
   "metadata": {},
   "source": [
    "13. Pairwise swap elements of a linked list\n",
    "\n",
    "Linked List\n",
    "Data Structures\n"
   ]
  },
  {
   "cell_type": "markdown",
   "metadata": {},
   "source": [
    "Given a singly linked list. The task is to swap elements in the linked list pairwise. For example, if the input list is 1 2 3 4, the resulting list after swaps will be 2 1 4 3.\n",
    "\n",
    "Note: You need to swap the nodes, not only the data. If only data is swapped then the driver code will print -1.\n",
    "\n",
    "Examples:\n",
    "\n",
    "Input: LinkedList: 1->2->2->4->5->6->7->8\n",
    "Output: 2->1->4->2->6->5->8->7\n",
    "\n",
    "Explanation: After swapping each pair considering (1,2), (2, 4), (5, 6).. so on as pairs, we get 2, 1, 4, 2, 6, 5, 8, 7 as a new linked list.\n",
    "Input: LinkedList: 1->3->4->7->9->10->1\n",
    "Output: 3->1->7->4->10->9->1\n",
    "\n",
    "Explanation: After swapping each pair considering (1,3), (4, 7), (9, 10).. so on as pairs, we get 3, 1, 7, 4, 10, 9, 1 as a new linked list.\n",
    "Expected Time Complexity: O(n)\n",
    "Expected Auxiliary Space: O(1)\n",
    "\n",
    "Constraints:\n",
    "1 ≤ size of linked list ≤ 106\n",
    "1 ≤ elements of linked list ≤ 106"
   ]
  },
  {
   "cell_type": "code",
   "execution_count": null,
   "metadata": {},
   "outputs": [],
   "source": []
  },
  {
   "cell_type": "markdown",
   "metadata": {},
   "source": [
    "14. Find median in a stream\n",
    "\n",
    "Heap\n",
    "Design-Pattern\n",
    "Data Structures"
   ]
  },
  {
   "cell_type": "markdown",
   "metadata": {},
   "source": [
    "Given an input stream of N integers. The task is to insert these numbers into a new stream and find the median of the stream formed by each insertion of X to the new stream.\n",
    "\n",
    "Example 1:\n",
    "\n",
    "Input:\n",
    "N = 4\n",
    "X[] = 5,15,1,3\n",
    "Output:\n",
    "5\n",
    "10\n",
    "5\n",
    "4\n",
    "Explanation:Flow in stream : 5, 15, 1, 3 \n",
    "5 goes to stream --> median 5 (5) \n",
    "15 goes to stream --> median 10 (5,15) \n",
    "1 goes to stream --> median 5 (5,15,1) \n",
    "3 goes to stream --> median 4 (5,15,1 3) \n",
    " \n",
    "\n",
    "Example 2:\n",
    "\n",
    "Input:\n",
    "N = 3\n",
    "X[] = 5,10,15\n",
    "Output:\n",
    "5\n",
    "7.5\n",
    "10\n",
    "Explanation:Flow in stream : 5, 10, 15\n",
    "5 goes to stream --> median 5 (5) \n",
    "10 goes to stream --> median 7.5 (5,10) \n",
    "15 goes to stream --> median 10 (5,10,15) \n",
    "Your Task:\n",
    "You are required to complete the class Solution. \n",
    "It should have 2 data members to represent 2 heaps. \n",
    "It should have the following member functions:\n",
    "insertHeap() which takes x as input and inserts it into the heap, the function should then call balanceHeaps() to balance the new heap.\n",
    "balanceHeaps() does not take any arguments. It is supposed to balance the two heaps.\n",
    "getMedian() does not take any arguments. It should return the current median of the stream.\n",
    "\n",
    "Expected Time Complexity : O(nlogn)\n",
    "Expected Auxilliary Space : O(n)\n",
    " \n",
    "Constraints:\n",
    "1 <= N <= 106\n",
    "1 <= x <= 106"
   ]
  },
  {
   "cell_type": "code",
   "execution_count": null,
   "metadata": {},
   "outputs": [],
   "source": []
  },
  {
   "cell_type": "markdown",
   "metadata": {},
   "source": [
    "15. Boolean Parenthesization\n",
    "\n",
    "\n",
    "Dynamic Programming\n",
    "Algorithms"
   ]
  },
  {
   "cell_type": "markdown",
   "metadata": {},
   "source": [
    "Given a boolean expression s of length n with following symbols.\n",
    "Symbols\n",
    "    'T' ---> true\n",
    "    'F' ---> false\n",
    "and following operators filled between symbols\n",
    "Operators\n",
    "    &   ---> boolean AND\n",
    "    |   ---> boolean OR\n",
    "    ^   ---> boolean XOR\n",
    "Count the number of ways we can parenthesize the expression so that the value of expression evaluates to true.\n",
    "\n",
    "Note: The answer can be large, so return it with modulo 1003\n",
    "\n",
    "Example 1:\n",
    "\n",
    "Input: \n",
    "n = 7\n",
    "s = T|T&F^T\n",
    "Output: \n",
    "4\n",
    "Explaination: \n",
    "The expression evaluates to true in 4 ways ((T|T)&(F^T)), (T|(T&(F^T))), (((T|T)&F)^T) and (T|((T&F)^T)).\n",
    "Example 2:\n",
    "\n",
    "Input: \n",
    "n = 5\n",
    "s = T^F|F\n",
    "Output: \n",
    "2\n",
    "Explaination: \n",
    "((T^F)|F) and (T^(F|F)) are the only ways.\n",
    "Your Task:\n",
    "You do not need to read input or print anything. Your task is to complete the function countWays() which takes n and s as input parameters and returns number of possible ways modulo 1003.\n",
    "\n",
    "Expected Time Complexity: O(n3)\n",
    "Expected Auxiliary Space: O(n2)\n",
    "\n",
    "Constraints:\n",
    "1 ≤ n ≤ 200 "
   ]
  },
  {
   "cell_type": "code",
   "execution_count": null,
   "metadata": {},
   "outputs": [],
   "source": []
  },
  {
   "cell_type": "markdown",
   "metadata": {},
   "source": [
    "16. Heap Sort\n",
    "\n",
    "Sorting\n",
    "Heap\n",
    "Data Structures\n",
    "Algorithms\n"
   ]
  },
  {
   "cell_type": "markdown",
   "metadata": {},
   "source": [
    "Given an array of size N. The task is to sort the array elements by completing functions heapify() and buildHeap() which are used to implement Heap Sort.\n",
    "\n",
    "Example 1:\n",
    "\n",
    "Input:\n",
    "N = 5\n",
    "arr[] = {4,1,3,9,7}\n",
    "Output:\n",
    "1 3 4 7 9\n",
    "Explanation:\n",
    "After sorting elements\n",
    "using heap sort, elements will be\n",
    "in order as 1,3,4,7,9.\n",
    "Example 2:\n",
    "\n",
    "Input:\n",
    "N = 10\n",
    "arr[] = {10,9,8,7,6,5,4,3,2,1}\n",
    "Output:\n",
    "1 2 3 4 5 6 7 8 9 10\n",
    "Explanation:\n",
    "After sorting elements\n",
    "using heap sort, elements will be\n",
    "in order as 1, 2,3,4,5,6,7,8,9,10.\n",
    "Your Task :\n",
    "You don't have to read input or print anything. Your task is to complete the functions heapify(), buildheap() and heapSort() where heapSort() and buildheap() takes the array and it's size as input and heapify() takes the array, it's size and an index i as input. Complete and use these functions to sort the array using heap sort algorithm.\n",
    "Note: You don't have to return the sorted list. You need to sort the array \"arr\" in place.\n",
    "\n",
    "Expected Time Complexity: O(N * Log(N)).\n",
    "Expected Auxiliary Space: O(1).\n",
    "\n",
    "Constraints:\n",
    "1 ≤ N ≤ 106\n",
    "1 ≤ arr[i] ≤ 106"
   ]
  },
  {
   "cell_type": "code",
   "execution_count": null,
   "metadata": {},
   "outputs": [],
   "source": []
  }
 ],
 "metadata": {
  "language_info": {
   "name": "python"
  }
 },
 "nbformat": 4,
 "nbformat_minor": 2
}
